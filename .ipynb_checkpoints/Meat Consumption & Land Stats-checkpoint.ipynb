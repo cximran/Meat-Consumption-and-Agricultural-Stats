{
 "cells": [
  {
   "cell_type": "code",
   "execution_count": 1,
   "metadata": {
    "collapsed": false
   },
   "outputs": [],
   "source": [
    "import pandas as pd\n",
    "import plotly.plotly as py\n",
    "from plotly.graph_objs import *\n",
    "from plotly import tools\n",
    "from datetime import datetime\n",
    "def ConvertForPlots(dataframe):\n",
    "    dataframe.fillna('',inplace=True)\n",
    "    dataframe=dataframe.set_index('Location').T\n",
    "    dataframe.reset_index(inplace=True)\n",
    "    dataframe.rename(columns={dataframe.columns[0]:'Year'},inplace=True)\n",
    "    dataframe.index.name='Index'\n",
    "    return(dataframe)\n",
    "def ConvertToEpoch(year):\n",
    "    epoch = datetime(1970,1,1)\n",
    "    i = datetime(year,1,1)\n",
    "    delta_time = (i - epoch).total_seconds()\n",
    "    return(delta_time*1000000000)\n",
    "from sklearn import datasets, linear_model\n"
   ]
  },
  {
   "cell_type": "code",
   "execution_count": 85,
   "metadata": {
    "collapsed": false
   },
   "outputs": [],
   "source": [
    "sheepdata=ConvertForPlots(pd.read_csv('Sheep_Meat_Consumption.csv'))\n",
    "poultrydata=ConvertForPlots(pd.read_csv('Poultry_Meat_Consumption.csv'))\n",
    "pigdata=ConvertForPlots(pd.read_csv('Pig_Meat_Consumption.csv'))\n",
    "beefdata=ConvertForPlots(pd.read_csv('Cow_Meat_Consumption.csv'))\n",
    "countries=['China (People\\'s Republic of)','India','United States']\n",
    "colors = ['rgba(179,4,4,1)', 'rgba(0,148,27,1)','rgba(39,91,161,1)']\n",
    "darkcolors = ['rgba(163,114,124,1)', 'rgba(118,163,114,1)','rgba(114,116,163,1)']\n",
    "lightcolors = ['rgba(255,193,188,1)', 'rgba(61,234,9,1)','rgba(152,192,255,1)']\n",
    "\n",
    "datasources=[sheepdata,poultrydata,pigdata,beefdata]\n",
    "datatitles=['Mutton','Poultry','Pork','Beef']"
   ]
  },
  {
   "cell_type": "code",
   "execution_count": 3,
   "metadata": {
    "collapsed": false,
    "scrolled": true
   },
   "outputs": [
    {
     "name": "stdout",
     "output_type": "stream",
     "text": [
      "This is the format of your plot grid:\n",
      "[ (1,1) x1,y1 ]  [ (1,2) x2,y2 ]\n",
      "[ (2,1) x3,y3 ]  [ (2,2) x4,y4 ]\n",
      "\n"
     ]
    },
    {
     "data": {
      "text/html": [
       "<iframe id=\"igraph\" scrolling=\"no\" style=\"border:none;\"seamless=\"seamless\" src=\"https://plot.ly/~cximran/361.embed\" height=\"1000px\" width=\"100%\"></iframe>"
      ],
      "text/plain": [
       "<plotly.tools.PlotlyDisplay object>"
      ]
     },
     "execution_count": 3,
     "metadata": {},
     "output_type": "execute_result"
    }
   ],
   "source": [
    "fig=tools.make_subplots(rows=2,cols=2,shared_xaxes=False,shared_yaxes=False,vertical_spacing=.06)\n",
    "gridx=[1,1,2,2]\n",
    "gridy=[1,2,1,2]\n",
    "for num in range(4):\n",
    "    \n",
    "    datatraces=[]\n",
    "    for i in range(0,3):\n",
    "        datatraces.append(\n",
    "        Scatter(\n",
    "            y=datasources[num][countries[i]],\n",
    "            x=datasources[num]['Year'],\n",
    "            line=Line(\n",
    "                color=colors[i], width=4),\n",
    "               \n",
    "            name=countries[i],\n",
    "            hoverinfo=\"name+x+y\",\n",
    "            showlegend=(num==0)\n",
    "            )\n",
    "    \n",
    "        )\n",
    "#fig=Figure(data=data,layout=layout)\n",
    "    fig.append_trace(datatraces[0],gridx[num],gridy[num])\n",
    "    fig.append_trace(datatraces[1],gridx[num],gridy[num])\n",
    "    fig.append_trace(datatraces[2],gridx[num],gridy[num])\n",
    "fig['layout'].update(height=1000,legend=Legend(y=-.1,x=.5,yanchor='middle',xanchor='center'),title='Meat Consumption in China, India, and USA',plot_bgcolor= 'rgb(215, 229, 238)',font=Font(family='Droid Sans') )\n",
    "fig['layout']['yaxis1'].update(title=datatitles[0]+' (kg consumed per capita)',fixedrange=True, zerolinecolor=\"rgb(255, 255, 255)\" )\n",
    "fig['layout']['yaxis2'].update(title=datatitles[1]+' (kg consumed per capita)', fixedrange=True,zerolinecolor=\"rgb(255, 255, 255)\" )\n",
    "fig['layout']['yaxis3'].update(title=datatitles[2]+' (kg consumed per capita)', fixedrange=True,zerolinecolor=\"rgb(255, 255, 255)\" )\n",
    "fig['layout']['yaxis4'].update(title=datatitles[3]+' (kg consumed per capita)', fixedrange=True,zerolinecolor=\"rgb(255, 255, 255)\" )\n",
    "fig['layout']['xaxis1'].update( type=\"linear\", range=[1990, 2015 ], autorange=False, fixedrange=True,dtick=1,gridwidth=3,showgrid=False)\n",
    "fig['layout']['xaxis2'].update( type=\"linear\", range=[1990, 2015 ], autorange=False, fixedrange=True,dtick=1,gridwidth=3,showgrid=False)\n",
    "fig['layout']['xaxis3'].update( type=\"linear\", range=[1990, 2015 ], autorange=False, fixedrange=True,dtick=1,gridwidth=3,showgrid=False)\n",
    "fig['layout']['xaxis4'].update( type=\"linear\", range=[1990, 2015 ], autorange=False, fixedrange=True,dtick=1,gridwidth=3,showgrid=False)\n",
    "\n",
    "py.iplot(fig, filename = 'meat_consumption_china+india+usa')\n"
   ]
  },
  {
   "cell_type": "markdown",
   "metadata": {
    "collapsed": true
   },
   "source": [
    "#Arable Land\n",
    "Now we're looking at Arable Land in the form of hectares per person. Because the data from the World Bank only extends to 2012, I applied a quick linear regression (predicted values are in the last three years to 2015). "
   ]
  },
  {
   "cell_type": "code",
   "execution_count": 19,
   "metadata": {
    "collapsed": false
   },
   "outputs": [],
   "source": [
    "arable_land=ConvertForPlots(pd.read_csv('arable_land.csv'))\n",
    "fertilizer_utilization=ConvertForPlots(pd.read_csv('fertilizer_utilization.csv'))"
   ]
  },
  {
   "cell_type": "code",
   "execution_count": null,
   "metadata": {
    "collapsed": false
   },
   "outputs": [],
   "source": []
  },
  {
   "cell_type": "code",
   "execution_count": 27,
   "metadata": {
    "collapsed": false
   },
   "outputs": [
    {
     "data": {
      "text/html": [
       "<iframe id=\"igraph\" scrolling=\"no\" style=\"border:none;\"seamless=\"seamless\" src=\"https://plot.ly/~cximran/375.embed\" height=\"500px\" width=\"100%\"></iframe>"
      ],
      "text/plain": [
       "<plotly.tools.PlotlyDisplay object>"
      ]
     },
     "execution_count": 27,
     "metadata": {},
     "output_type": "execute_result"
    }
   ],
   "source": [
    "forecast_years=range(2012,2016)\n",
    "landtraces=[]\n",
    "for i in range(0,3):\n",
    "    linear_regression=[]\n",
    "    landtraces.append(\n",
    "    Scatter(\n",
    "        y=arable_land[countries[i]],\n",
    "        x=arable_land['Year'],\n",
    "        line=Line(\n",
    "                color=colors[i], width=4),\n",
    "            name=countries[i],\n",
    "            hoverinfo=\"x+y\",\n",
    "            showlegend=True\n",
    "            )\n",
    "    \n",
    "        )\n",
    "    regr = linear_model.LinearRegression()\n",
    "    regr.fit(pd.to_datetime(arable_land['Year'][30:52]).astype(int).reshape(22,1),arable_land[countries[i]][30:52].convert_objects(convert_numeric=True).reshape(22,1))\n",
    "    linear_regression.append(arable_land[countries[i]][52])\n",
    "    prediction=regr.predict(pd.DataFrame(map(ConvertToEpoch,forecast_years)))\n",
    "    linear_regression.extend(item[0] for item in prediction)\n",
    "    landtraces.append(\n",
    "    Scatter(\n",
    "        x=forecast_years,\n",
    "        y=linear_regression,\n",
    "        line=Line(\n",
    "            color=colors[i],\n",
    "            dash='dot'),\n",
    "        mode='lines',\n",
    "        name=countries[i]+' (predicted)',\n",
    "            \n",
    "        showlegend=False\n",
    "        ))\n",
    "    \n",
    "layout=Layout(height=500,legend=Legend(y=-.17,x=.5,yanchor='middle',xanchor='center'),title='Arable Land in China, India, and USA ',plot_bgcolor= 'rgb(215, 229, 238)',font=Font(family='Droid Sans'),xaxis=XAxis(range=[1990,2015],dtick=1),yaxis=YAxis(title='Hectares per person'))\n",
    "# landtraces.append(\n",
    "# Scatter(\n",
    "#     x=years,\n",
    "#     y=regr.predict(pd.DataFrame(conv))\n",
    "    \n",
    "#     ))\n",
    "fig=Figure(data=Data(landtraces),layout=layout)\n",
    "\n",
    "py.iplot(fig, filename = 'arab1le_land_china+india+usa')\n"
   ]
  },
  {
   "cell_type": "code",
   "execution_count": 6,
   "metadata": {
    "collapsed": true
   },
   "outputs": [],
   "source": []
  },
  {
   "cell_type": "code",
   "execution_count": null,
   "metadata": {
    "collapsed": false
   },
   "outputs": [],
   "source": []
  },
  {
   "cell_type": "code",
   "execution_count": 88,
   "metadata": {
    "collapsed": false
   },
   "outputs": [
    {
     "data": {
      "text/html": [
       "<iframe id=\"igraph\" scrolling=\"no\" style=\"border:none;\"seamless=\"seamless\" src=\"https://plot.ly/~cximran/401.embed\" height=\"700px\" width=\"100%\"></iframe>"
      ],
      "text/plain": [
       "<plotly.tools.PlotlyDisplay object>"
      ]
     },
     "execution_count": 88,
     "metadata": {},
     "output_type": "execute_result"
    }
   ],
   "source": [
    "forecast_years=range(2012,2016)\n",
    "prediction=[]\n",
    "landtraces=[]\n",
    "for i in range(0,2):\n",
    "    arable_regression=[]\n",
    "    fertilizer_regression=[]\n",
    "    landtraces.append(\n",
    "    Scatter(\n",
    "        y=fertilizer_utilization[countries[i]],\n",
    "        x=fertilizer_utilization['Year'],\n",
    "        line=Line(\n",
    "                color=lightcolors[i], width=5,\n",
    "                dash='dot'),\n",
    "            name=countries[i]+' Fertilizer Use',\n",
    "            hoverinfo=\"x+y\",\n",
    "            showlegend=True,\n",
    "            legendgroup='Fertilizer',\n",
    "            \n",
    "        yaxis='y2',)\n",
    "    \n",
    "        )\n",
    "    landtraces.append(\n",
    "    Scatter(\n",
    "        y=arable_land[countries[i]],\n",
    "        x=arable_land['Year'],\n",
    "        line=Line(\n",
    "                color=colors[i], width=5),\n",
    "            name=countries[i]+' Arable Land',\n",
    "            hoverinfo=\"x+y\",\n",
    "            showlegend=True,\n",
    "            legendgroup='ArableLand'\n",
    "            )\n",
    "    \n",
    "        )\n",
    "    arable_regr = linear_model.LinearRegression()\n",
    "    arable_regr.fit(pd.to_datetime(arable_land['Year'][30:52]).astype(int).reshape(22,1),arable_land[countries[i]][30:52].convert_objects(convert_numeric=True).reshape(22,1))\n",
    "    arable_regression.append(arable_land[countries[i]][52])\n",
    "    prediction=arable_regr.predict(pd.DataFrame(map(ConvertToEpoch,forecast_years)))\n",
    "    arable_regression.extend(item[0] for item in prediction)\n",
    "    fertilizer_regr = linear_model.LinearRegression()\n",
    "    fertilizer_regr.fit(pd.to_datetime(fertilizer_utilization['Year'][42:52]).astype(int).reshape(10,1),fertilizer_utilization[countries[i]][42:52].convert_objects(convert_numeric=True).reshape(10,1))\n",
    "    fertilizer_regression.append(fertilizer_utilization[countries[i]][52])\n",
    "    prediction2=fertilizer_regr.predict(pd.DataFrame(map(ConvertToEpoch,forecast_years)))\n",
    "    fertilizer_regression.extend(item[0] for item in prediction2)\n",
    "\n",
    "    landtraces.append(\n",
    "    Scatter(\n",
    "        x=forecast_years,\n",
    "        y=arable_regression,\n",
    "        line=Line(\n",
    "            color=colors[i],dash='dash'),\n",
    "        mode='lines',\n",
    "        name=countries[i]+' Arable Land (predicted)',\n",
    "        hoverinfo=\"x+y\",\n",
    "            \n",
    "        showlegend=False\n",
    "        ))\n",
    "    landtraces.append(\n",
    "    Scatter(\n",
    "        x=forecast_years,\n",
    "        y=fertilizer_regression,\n",
    "        hoverinfo=\"x+y\",\n",
    "        line=Line(\n",
    "            color=lightcolors[i],dash='dash'),\n",
    "        mode='lines',\n",
    "        name=countries[i]+' Fertilizer Use (predicted)',\n",
    "        yaxis='y2',\n",
    "        showlegend=False\n",
    "        ))\n",
    "    \n",
    "layout=Layout(height=700,legend=Legend(y=-.2,x=.5,yanchor='middle',xanchor='center'),title='Fertilizer Use & Arable Land',plot_bgcolor= 'rgba(215, 229, 238, 0.23) ',font=Font(family='Droid Sans'),xaxis=XAxis(range=[2002,2015],dtick=1),yaxis=YAxis(title='Arable Land (hectares per person)',side='right'),yaxis2=YAxis(overlaying='y',side='left',title='Fertilizer Use (kg per hectare)'))\n",
    "# landtraces.append(\n",
    "# Scatter(\n",
    "#     x=years,\n",
    "#     y=regr.predict(pd.DataFrame(conv))\n",
    "    \n",
    "#     ))\n",
    "fig=Figure(data=Data(landtraces),layout=layout)\n",
    "\n",
    "py.iplot(fig, filename = 'Fertilizer_Use')\n"
   ]
  },
  {
   "cell_type": "code",
   "execution_count": null,
   "metadata": {
    "collapsed": false
   },
   "outputs": [],
   "source": []
  },
  {
   "cell_type": "code",
   "execution_count": null,
   "metadata": {
    "collapsed": true
   },
   "outputs": [],
   "source": []
  },
  {
   "cell_type": "code",
   "execution_count": null,
   "metadata": {
    "collapsed": true
   },
   "outputs": [],
   "source": []
  },
  {
   "cell_type": "code",
   "execution_count": null,
   "metadata": {
    "collapsed": true
   },
   "outputs": [],
   "source": []
  }
 ],
 "metadata": {
  "kernelspec": {
   "display_name": "Python 2",
   "language": "python",
   "name": "python2"
  },
  "language_info": {
   "codemirror_mode": {
    "name": "ipython",
    "version": 2
   },
   "file_extension": ".py",
   "mimetype": "text/x-python",
   "name": "python",
   "nbconvert_exporter": "python",
   "pygments_lexer": "ipython2",
   "version": "2.7.10"
  }
 },
 "nbformat": 4,
 "nbformat_minor": 0
}
